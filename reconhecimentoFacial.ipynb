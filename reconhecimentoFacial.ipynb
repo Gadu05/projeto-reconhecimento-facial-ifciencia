{
 "cells": [
  {
   "cell_type": "code",
   "execution_count": null,
   "metadata": {},
   "outputs": [],
   "source": [
    "from mediapipe.python.solutions.drawing_utils import _normalized_to_pixel_coordinates\n",
    "\n",
    "import cv2\n",
    "import mediapipe as mp\n",
    "import numpy as np\n",
    "import matplotlib.pylab as plt\n",
    "import os\n",
    "\n",
    "import tensorflow as tf\n",
    "from tensorflow import keras"
   ]
  },
  {
   "cell_type": "code",
   "execution_count": 6,
   "metadata": {},
   "outputs": [],
   "source": [
    "webcam = cv2.VideoCapture(1)\n",
    "\n",
    "reconhecimento_rosto = mp.solutions.face_detection\n",
    "#desenho = mp.solutions.drawing_utils\n",
    "reconhecedor_rosto = reconhecimento_rosto.FaceDetection()\n",
    "\n",
    "while webcam.isOpened():\n",
    "    validacao, frame = webcam.read()\n",
    "    if not validacao:\n",
    "        break\n",
    "    imagem = frame\n",
    "    lista_rostos = reconhecedor_rosto.process(imagem)\n",
    "    \n",
    "    if lista_rostos.detections:\n",
    "        for rosto in lista_rostos.detections:\n",
    "            #desenho.draw_detection(imagem, rosto)\n",
    "            #image = imagem\n",
    "            #output = rosto.copy()\n",
    "            #circles = cv2.HoughCircles(rosto, cv2.HOUGH_GRADIENT, 1.2, 100)\n",
    "\n",
    "            if rosto is not None:\n",
    "                image_rows, image_cols, _ = imagem.shape\n",
    "                location = rosto.location_data\n",
    "                bounding_box = location.relative_bounding_box\n",
    "\n",
    "                rect_start_point = _normalized_to_pixel_coordinates(\n",
    "                    bounding_box.xmin, bounding_box.ymin, image_cols, image_rows\n",
    "                )\n",
    "                rect_end_point = _normalized_to_pixel_coordinates(\n",
    "                    bounding_box.xmin + bounding_box.width,\n",
    "                    bounding_box.ymin + bounding_box.height,\n",
    "                    image_cols, image_rows\n",
    "                )\n",
    "\n",
    "                if rect_start_point is not None and rect_end_point is not None:\n",
    "                    xleft, ytop = rect_start_point\n",
    "                    xright, ybottom = rect_end_point\n",
    "                \n",
    "                img = imagem[ytop: ybottom, xleft: xright]\n",
    "                cv2.imshow(\"Rosto Encontrado\", img)\n",
    "\n",
    "                if img is not None:\n",
    "                    if cv2.waitKey(5) == 27: #ESC\n",
    "                        fotoRosto = img\n",
    "                        webcam.release()\n",
    "                        break\n",
    "    \n",
    "    #cv2.imshow(\"Rostos na sua webcam\", imagem)\n",
    "    #if cv2.waitKey(5) == 27:\n",
    "        #break\n",
    "\n",
    "webcam.release() \n",
    "cv2.destroyAllWindows() "
   ]
  },
  {
   "cell_type": "code",
   "execution_count": 7,
   "metadata": {},
   "outputs": [],
   "source": [
    "while True:\n",
    "    fotoRosto = cv2.resize(fotoRosto, (128, 128))\n",
    "    #cv2.imshow(\"Foto\", fotoRosto)\n",
    "    cv2.imshow(\"Foto\", cv2.cvtColor(fotoRosto, cv2.COLOR_BGR2GRAY))\n",
    "    cv2.waitKey(0)\n",
    "    break\n",
    "cv2.destroyAllWindows()"
   ]
  },
  {
   "cell_type": "markdown",
   "metadata": {},
   "source": [
    "Carregando Nomes"
   ]
  },
  {
   "cell_type": "code",
   "execution_count": null,
   "metadata": {},
   "outputs": [],
   "source": [
    "class_names = [\"Saudavel\", \"Variola do Macaco\"]\n",
    "\n",
    "model = tf.keras.models.load_model(\"modelo/\")\n",
    "model.load_weights(\"checkpoint/\")\n",
    "\n",
    "#model.summary()"
   ]
  },
  {
   "cell_type": "markdown",
   "metadata": {},
   "source": [
    "Salvando Rosto"
   ]
  },
  {
   "cell_type": "code",
   "execution_count": null,
   "metadata": {},
   "outputs": [],
   "source": [
    "fotoRosto = cv2.cvtColor(fotoRosto, cv2.COLOR_BGR2GRAY)\n",
    "fotoRosto = cv2.resize(fotoRosto, (128, 128))"
   ]
  },
  {
   "cell_type": "markdown",
   "metadata": {},
   "source": [
    "Prever Resultado"
   ]
  },
  {
   "cell_type": "code",
   "execution_count": 12,
   "metadata": {},
   "outputs": [
    {
     "name": "stdout",
     "output_type": "stream",
     "text": [
      "1/1 [==============================] - 0s 416ms/step\n"
     ]
    }
   ],
   "source": [
    "cv2.imwrite(\"foto.png\", fotoRosto)\n",
    "aux = cv2.imread(\"foto.png\")\n",
    "aux = (np.expand_dims(aux, 0))\n",
    "os.remove(\"foto.png\")\n",
    "\n",
    "previsao = model.predict(aux)\n",
    "\n",
    "r = np.argmax(previsao[0])\n",
    "resultado = class_names[r]\n",
    "certeza = predictions[0][r] * 100\n",
    "resultado = resultado + \" ({:0.2f}%)\".format(certeza)"
   ]
  },
  {
   "cell_type": "code",
   "execution_count": 17,
   "metadata": {},
   "outputs": [],
   "source": [
    "fotoRosto = cv2.resize(fotoRosto, (256,256))\n",
    "cv2.imshow(resultado, fotoRosto)\n",
    "cv2.waitKey(0)\n",
    "cv2.destroyAllWindows()"
   ]
  },
  {
   "cell_type": "markdown",
   "metadata": {
    "tags": []
   },
   "source": [
    "Exibir Resultado na Saída"
   ]
  },
  {
   "cell_type": "code",
   "execution_count": null,
   "metadata": {},
   "outputs": [],
   "source": [
    "plt.title(resultado)\n",
    "plt.axis(\"off\")\n",
    "plt.imshow(fotoRosto, cmap=\"gray\")\n",
    "plt.show()"
   ]
  }
 ],
 "metadata": {
  "kernelspec": {
   "display_name": "Python 3.10.7 64-bit",
   "language": "python",
   "name": "python3"
  },
  "language_info": {
   "codemirror_mode": {
    "name": "ipython",
    "version": 3
   },
   "file_extension": ".py",
   "mimetype": "text/x-python",
   "name": "python",
   "nbconvert_exporter": "python",
   "pygments_lexer": "ipython3",
   "version": "3.10.7"
  },
  "orig_nbformat": 4,
  "vscode": {
   "interpreter": {
    "hash": "cf226b218a7d57ed5f8f8d9751df45e5311bbbb9666991a983395746c6ec0f53"
   }
  }
 },
 "nbformat": 4,
 "nbformat_minor": 2
}
